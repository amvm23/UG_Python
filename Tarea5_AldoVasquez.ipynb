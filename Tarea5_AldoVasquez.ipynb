{
 "cells": [
  {
   "cell_type": "code",
   "execution_count": 9,
   "metadata": {},
   "outputs": [
    {
     "data": {
      "text/plain": [
       "array([0.  , 0.1 , 0.2 , 0.3 , 0.4 , 0.5 , 0.51, 0.52, 0.53, 0.54, 0.55,\n",
       "       0.56, 0.57, 0.58, 0.59, 0.6 , 0.7 , 0.8 , 0.9 , 1.  ])"
      ]
     },
     "execution_count": 9,
     "metadata": {},
     "output_type": "execute_result"
    }
   ],
   "source": [
    "import numpy as np\n",
    "x1 = np.linspace(0,.5, 6)\n",
    "x2 = np.linspace(0.51,.6, 10)\n",
    "x3 = np.linspace(0.7,1, 4)\n",
    "np.hstack((x1,x2,x3))"
   ]
  },
  {
   "cell_type": "code",
   "execution_count": 12,
   "metadata": {},
   "outputs": [
    {
     "name": "stdout",
     "output_type": "stream",
     "text": [
      "3.7416573867739413\n"
     ]
    }
   ],
   "source": [
    "def magnitud(x):\n",
    "    y = pow((np.sum(np.power(x,2))),0.5)\n",
    "    return  y\n"
   ]
  },
  {
   "cell_type": "code",
   "execution_count": 13,
   "metadata": {},
   "outputs": [
    {
     "name": "stdout",
     "output_type": "stream",
     "text": [
      "[0.26726124 0.53452248 0.80178373]\n"
     ]
    }
   ],
   "source": [
    "def normalizar(x):\n",
    "    y = pow((np.sum(np.power(x,2))),0.5)\n",
    "    return  x/y\n",
    "\n",
    "print(normalizar([1,2,3]))"
   ]
  },
  {
   "cell_type": "code",
   "execution_count": 20,
   "metadata": {},
   "outputs": [
    {
     "data": {
      "text/plain": [
       "array([2. , 1.5, 1. , 0.5, 0. , 0.5, 1. , 1.5, 2. ])"
      ]
     },
     "execution_count": 20,
     "metadata": {},
     "output_type": "execute_result"
    }
   ],
   "source": [
    "x = np.linspace(-2,2,9)\n",
    "y = x < 0\n",
    "z = x >1 0\n",
    "np.hstack((x[y]*-1,x[z]))\n"
   ]
  },
  {
   "cell_type": "code",
   "execution_count": 45,
   "metadata": {},
   "outputs": [
    {
     "name": "stdout",
     "output_type": "stream",
     "text": [
      "[-2.   0.1  0.5  5. ]\n"
     ]
    }
   ],
   "source": [
    "def h(x):\n",
    "    a = x < 0\n",
    "    b = (x >= 0) & (x <= 1)\n",
    "    c = x > 1\n",
    "    return (np.hstack((x[a],x[b],x[c])))\n",
    "\n",
    "x = np.array([0.1,-2,0.5,5])\n",
    "\n",
    "print(h(x))"
   ]
  },
  {
   "cell_type": "code",
   "execution_count": 54,
   "metadata": {},
   "outputs": [
    {
     "data": {
      "text/plain": [
       "array([8.  , 5.75, 3.5 , 1.25, 1.  , 4.  , 4.  , 4.  , 4.  ])"
      ]
     },
     "execution_count": 54,
     "metadata": {},
     "output_type": "execute_result"
    }
   ],
   "source": [
    "x = np.linspace(-8,10,9)\n",
    "condiciones = [x<0,  (x>=0) & (x<1),  (x>=1) & (x<2), x>=2]\n",
    "resultados =  [-x,    x**3,          x**2,         4]\n",
    "\n",
    "np.select(condiciones,resultados) "
   ]
  },
  {
   "cell_type": "code",
   "execution_count": 72,
   "metadata": {},
   "outputs": [
    {
     "data": {
      "text/plain": [
       "array([8.        , 5.44444444, 2.88888889, 0.33333333, 4.        ,\n",
       "       4.        , 4.        , 4.        , 4.        , 4.        ])"
      ]
     },
     "execution_count": 72,
     "metadata": {},
     "output_type": "execute_result"
    }
   ],
   "source": [
    "x = np.linspace(-8,15,10)\n",
    "\n",
    "np.piecewise(x, [(x<0), (x>=0)&(x<1), (x>=1)&(x<2), (x>=2)], [lambda x: -x, lambda x: x**3, lambda x: x**2, 4])\n"
   ]
  },
  {
   "cell_type": "markdown",
   "metadata": {},
   "source": [
    "## Proyección Vectorial ##\n",
    "---\n",
    "La proyección vectorial nos permite proyectar un vector u sobre la dirección de un vector v.  El ejemplo visto en clase de una proyección es imaginar si los rayos del sol producen una sombra del vector u sobre el piso que sería el vector y\n",
    "\n",
    "Para ello, desde el extremo de u, trazamos una recta perpendicular al vector v: Ahora, sobre el vector v, dibujamos un vector desde el origen de ambos vectores hasta el punto donde se cortan la recta perpendicular y el vector v.\n",
    "\n",
    "#Definir una función para cálculo en NumPy#\n",
    "\n",
    "### Definir una función para cálculo en NumPy ###\n",
    "---\n",
    "Se me ocurre una función en NumPy que devuelve el riesgo de un cliente basado en su Score Crediticio.  Esto se podría usar para saber el riesgo crediticio de una cartera de clientes\n",
    "\n",
    "### Producto Cruz ###\n",
    "En matemáticas, el producto vectorial de Gibbs o producto cruz es una operación binaria entre dos vectores en un espacio tridimensional. El resultado es un vector perpendicular a los vectores que se multiplican, y por lo tanto normal al plano que los contiene\n",
    "\n"
   ]
  },
  {
   "cell_type": "code",
   "execution_count": null,
   "metadata": {},
   "outputs": [],
   "source": []
  }
 ],
 "metadata": {
  "kernelspec": {
   "display_name": "Python 3",
   "language": "python",
   "name": "python3"
  },
  "language_info": {
   "codemirror_mode": {
    "name": "ipython",
    "version": 3
   },
   "file_extension": ".py",
   "mimetype": "text/x-python",
   "name": "python",
   "nbconvert_exporter": "python",
   "pygments_lexer": "ipython3",
   "version": "3.8.5"
  }
 },
 "nbformat": 4,
 "nbformat_minor": 4
}
