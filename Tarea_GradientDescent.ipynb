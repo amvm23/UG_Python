{
 "cells": [
  {
   "cell_type": "code",
   "execution_count": 1,
   "metadata": {
    "scrolled": true
   },
   "outputs": [
    {
     "name": "stdout",
     "output_type": "stream",
     "text": [
      "[2.085e+05 7.000e+00 8.560e+02 8.000e+00 2.003e+03 6.500e+01]\n"
     ]
    }
   ],
   "source": [
    "import numpy as np\n",
    "\n",
    "dataset = np.load('proyecto_training_data.npy')\n",
    "\n",
    "print(dataset[0,])\n"
   ]
  },
  {
   "cell_type": "markdown",
   "metadata": {},
   "source": [
    "## LA VARIABLE CON MAYOR PODER PREDICTIVO DEL PROYECTO DEL CURSO PASADO:\n",
    "---\n",
    "\n",
    "#       1.  OverallQual"
   ]
  },
  {
   "cell_type": "code",
   "execution_count": 2,
   "metadata": {},
   "outputs": [
    {
     "name": "stdout",
     "output_type": "stream",
     "text": [
      "[208500.]\n",
      "[7.]\n",
      "1460\n",
      "1\n"
     ]
    }
   ],
   "source": [
    "y = dataset[:,0:1]\n",
    "x = dataset[:,1:2]\n",
    "print(y[0,])\n",
    "print(x[0,])\n",
    "\n",
    "filas, columnas = y.shape\n",
    "\n",
    "print(filas)\n",
    "print(columnas)\n",
    "\n",
    "np.savetxt(\"foo.csv\", dataset[:,0:2], delimiter=\",\")\n",
    "\n"
   ]
  },
  {
   "cell_type": "code",
   "execution_count": 3,
   "metadata": {},
   "outputs": [],
   "source": [
    "import tensorflow as tf\n",
    "import matplotlib.pyplot as plt\n",
    "from datetime import datetime\n"
   ]
  },
  {
   "cell_type": "code",
   "execution_count": 4,
   "metadata": {},
   "outputs": [],
   "source": [
    "%load_ext tensorboard"
   ]
  },
  {
   "cell_type": "code",
   "execution_count": null,
   "metadata": {},
   "outputs": [],
   "source": [
    "#%reload_ext tensorboard\n",
    "#rm -rf graphs2/"
   ]
  },
  {
   "cell_type": "code",
   "execution_count": 5,
   "metadata": {},
   "outputs": [],
   "source": [
    "#@tf.function\n",
    "def h(m,b,x):    \n",
    "  #y = m*tf.cast(x, tf.float64) + b\n",
    "  y = m*x + b\n",
    "  return y\n",
    "\n",
    "#@tf.function\n",
    "def costo(y_real,y_aprox):\n",
    "  return 1/2*tf.reduce_mean(tf.math.square(y_real - y_aprox))"
   ]
  },
  {
   "cell_type": "code",
   "execution_count": 6,
   "metadata": {},
   "outputs": [],
   "source": [
    "def evolucion(x, y, yhat):\n",
    "    fig = plt.figure()\n",
    "    ax = fig.add_subplot(1,1,1) #creamos un canvas con  1 fila, 1 columna y devolvemos una referencia a la primera grafica\n",
    "\n",
    "    ax.grid()\n",
    "    ax.scatter(x,y,color=\"b\")\n",
    "    ax.plot(x,yhat,label=\"yhat\")\n",
    "\n",
    "    ax.legend()\n",
    "    ax.set_xlabel('datos X')\n",
    "    ax.set_ylabel('datos Y')\n",
    "    ax.set_title('Grafica de y = mx + b')\n",
    "\n",
    "    plt.show()"
   ]
  },
  {
   "cell_type": "code",
   "execution_count": 21,
   "metadata": {},
   "outputs": [],
   "source": [
    "def regresion(lr, epochs, batch_size, tamaño_muestra, graficas):\n",
    "\n",
    "    ########### hyper-parametros\n",
    "    #lr = 0.045\n",
    "    #epochs = 2000\n",
    "    #batch_size = filas\n",
    "    #tamaño_muestra = filas\n",
    "\n",
    "    ########### \n",
    "\n",
    "    ########### parametros entrenables\n",
    "    m = tf.Variable(0.0)\n",
    "    b = tf.Variable(0.0)\n",
    "    ###########\n",
    "\n",
    "    errores = [] # almacenara el error de cada iteracion\n",
    "\n",
    "    total_iteraciones = 1\n",
    "    #total_iteraciones = int(tamaño_muestra/batch_size)\n",
    "\n",
    "    \n",
    "\n",
    "    logdir = \"graphs3/\" + datetime.now().strftime(\"%Y%m%d-%H%M%S\") + \"_lr_\" + str(lr) + \"_epochs_\" +  str(epochs) + \"_bsize_\" + str(batch_size)\n",
    "\n",
    "    writer = tf.summary.create_file_writer(logdir)\n",
    "    \n",
    "   \n",
    "    #tf.summary.trace_on(graph=True, profiler=True)\n",
    "\n",
    "\n",
    "    for epoch in range(epochs):\n",
    "      #shuffle(x,y) # buena practica (ordenar aleatoriamente)\n",
    "\n",
    "        for i in range(total_iteraciones):  #muchas iteraciones por epoch \n",
    "           \n",
    "          muestra_inicio = i*batch_size\n",
    "          muestra_fin = muestra_inicio + batch_size\n",
    "          x_mb =  np.array(x[muestra_inicio:muestra_fin]).reshape([-1,1])\n",
    "          y_mb = np.array(y[muestra_inicio:muestra_fin]).reshape([-1,1])\n",
    "\n",
    "          with tf.GradientTape() as grad_tape:\n",
    "            grad_tape.watch(b)\n",
    "            grad_tape.watch(m)\n",
    "\n",
    "            y_pred = h(m,b,x_mb)\n",
    "            error = costo(y_mb,y_pred)\n",
    "\n",
    "          # calcular el gradiente de la funcion de costo respecto de los parametros\n",
    "          grad_m,grad_b = grad_tape.gradient(error,[m,b])\n",
    "\n",
    "          # actualizar los parametros dando un paso en direccion contraria al gradiente\n",
    "          m.assign(m - lr*grad_m)\n",
    "          b.assign(b - lr*grad_b)\n",
    "\n",
    "          # almacenar o procesar cualquier informacion relevante\n",
    "          errores.append(error.numpy())\n",
    "\n",
    "          with writer.as_default():\n",
    "              tf.summary.scalar(\"MSE\",error,step=epoch*(i+1))\n",
    "            \n",
    "              #tf.summary.scalar(\"Epoch\",epoch,step=epoch*(i+1))\n",
    "              #merged = tf.summary.merge_all()\n",
    "            \n",
    "              #tf.summary.graph(tf.summary.get_default_graph())\n",
    "              \n",
    "               #writer.close()\n",
    "\n",
    "          #print(\"Iteracion {}, Epoch {}, , error:{}\".format(i, epoch, error))\n",
    "          #print(\"    modelo:y={}x+{}\".format(m.numpy(),b.numpy()))\n",
    "\n",
    "    \n",
    "    \n",
    "    #with writer.as_default():\n",
    "    #  tf.summary.trace_export(\n",
    "    #  name=\"trace\",\n",
    "    #  step=0,\n",
    "    # profiler_outdir=logdir)\n",
    "    \n",
    "    writer.flush()\n",
    "    \n",
    "    #print(\"fin\")\n",
    "    \n",
    "    if graficas==1:\n",
    "        print(\"Modelo Ganador\")\n",
    "        plt.plot(errores)\n",
    "        plt.show()\n",
    "        evolucion(x, y, y_pred)\n",
    "    \n",
    "    return \"error: {} output:y={}x+{}\".format(error,m.numpy(),b.numpy())\n",
    "    \n",
    "    "
   ]
  },
  {
   "cell_type": "code",
   "execution_count": 9,
   "metadata": {},
   "outputs": [],
   "source": []
  },
  {
   "cell_type": "code",
   "execution_count": 42,
   "metadata": {
    "scrolled": true
   },
   "outputs": [],
   "source": [
    "%reload_ext tensorboard"
   ]
  },
  {
   "cell_type": "code",
   "execution_count": 10,
   "metadata": {},
   "outputs": [],
   "source": [
    "#tf.summary.trace_off()\n"
   ]
  },
  {
   "cell_type": "markdown",
   "metadata": {},
   "source": [
    "# Parametros\n",
    "### lr, epochs, batch_size, muestras\n",
    "\n",
    "# Descripción: \n",
    "---\n",
    "### El proyecto utiliza el algoritmo MINI BATCH GRADIENT DESCENT \n",
    "### Se agregar un summary.scalar para monitorear el MSE del modelo\n",
    "### Se utiliza la data del proyecto final del curso pasado, la variable de mayor correlación\n",
    "# OverallQual\n",
    "\n",
    "## Se define un string de configuración y se crea una carpeta para cada experimento, de la siguiente forma:\n",
    "\n",
    "---\n",
    "\n",
    "### Fecha_Hora_LR_Epoch_BatchSize\n",
    "\n",
    "---\n",
    "\n",
    "\n",
    "## A continuación los 10 experimentos ...\n",
    "\n",
    "\n"
   ]
  },
  {
   "cell_type": "code",
   "execution_count": 16,
   "metadata": {},
   "outputs": [],
   "source": [
    "#print(regresion(0.0045, 5, 1200, 1200))"
   ]
  },
  {
   "cell_type": "code",
   "execution_count": 24,
   "metadata": {},
   "outputs": [
    {
     "name": "stdout",
     "output_type": "stream",
     "text": [
      "error: 17935515648.0 output:y=1167.760498046875x+178.23922729492188\n",
      "error: 4814599680.0 output:y=16403.962890625x+2476.855224609375\n",
      "error: 1151676032.0 output:y=29220.134765625x+4121.15869140625\n",
      "error: 1129138816.0 output:y=30324.890625x+309.1086120605469\n",
      "error: 1111641216.0 output:y=30974.720703125x+-3842.785888671875\n",
      "error: nan output:y=nanx+nan\n",
      "error: nan output:y=nanx+nan\n",
      "error: 1073826688.0 output:y=32484.03125x+-13486.09375\n",
      "error: 1314044544.0 output:y=37596.08984375x+-45468.01953125\n",
      "error: 1458222592.0 output:y=31452.67578125x+-6086.052734375\n"
     ]
    }
   ],
   "source": [
    "#experimento1:\n",
    "print(regresion(0.0001, 10, 300, 1200, 0))\n",
    "#experimento2:\n",
    "print(regresion(0.0002, 100, 300, 1200, 0))\n",
    "\n",
    "#experimento3:\n",
    "print(regresion(0.001, 100, 300, 1200, 0))\n",
    "\n",
    "#experimento4:\n",
    "print(regresion(0.01, 100, 300, 1200, 0))\n",
    "\n",
    "#experimento5:\n",
    "print(regresion(0.02, 100, 300, 1200, 0))\n",
    "\n",
    "#experimento6:\n",
    "print(regresion(0.1, 100, 300, 1200, 0))\n",
    "\n",
    "#experimento7:\n",
    "print(regresion(0.5, 100, 300, 1200, 0))\n",
    "\n",
    "#experimento8:\n",
    "print(regresion(0.045, 100, 300, 1200, 0))\n",
    "\n",
    "#experimento9:\n",
    "print(regresion(0.045, 300, 1200, 1200, 0))\n",
    "\n",
    "#experimento10:\n",
    "print(regresion(0.0045, 500, 1200, 1200, 0))\n"
   ]
  },
  {
   "cell_type": "code",
   "execution_count": 25,
   "metadata": {},
   "outputs": [
    {
     "name": "stdout",
     "output_type": "stream",
     "text": [
      "error: 1381020544.0 output:y=31293.875x+-5628.89892578125\n"
     ]
    }
   ],
   "source": [
    "#Modelo Ganador:\n",
    "print(regresion(0.0045, 500, filas, filas, 0))"
   ]
  },
  {
   "cell_type": "code",
   "execution_count": null,
   "metadata": {},
   "outputs": [],
   "source": []
  },
  {
   "cell_type": "code",
   "execution_count": 26,
   "metadata": {
    "scrolled": true
   },
   "outputs": [
    {
     "data": {
      "text/plain": [
       "Reusing TensorBoard on port 6006 (pid 8904), started 9:55:07 ago. (Use '!kill 8904' to kill it.)"
      ]
     },
     "metadata": {},
     "output_type": "display_data"
    },
    {
     "data": {
      "text/html": [
       "\n",
       "      <iframe id=\"tensorboard-frame-1f3fe94d00640122\" width=\"100%\" height=\"800\" frameborder=\"0\">\n",
       "      </iframe>\n",
       "      <script>\n",
       "        (function() {\n",
       "          const frame = document.getElementById(\"tensorboard-frame-1f3fe94d00640122\");\n",
       "          const url = new URL(\"/\", window.location);\n",
       "          const port = 6006;\n",
       "          if (port) {\n",
       "            url.port = port;\n",
       "          }\n",
       "          frame.src = url;\n",
       "        })();\n",
       "      </script>\n",
       "    "
      ],
      "text/plain": [
       "<IPython.core.display.HTML object>"
      ]
     },
     "metadata": {},
     "output_type": "display_data"
    }
   ],
   "source": [
    "%tensorboard --logdir \"graphs3/\""
   ]
  },
  {
   "attachments": {
    "image-2.png": {
     "image/png": "[encoded data removed]"
    },
    "image.png": {
     "image/png": "[encoded data removed]"
    }
   },
   "cell_type": "markdown",
   "metadata": {},
   "source": [
    "### En esta imagen se observa el MSE de todos los experimentos\n",
    "\n",
    "![image.png](attachment:image.png)\n",
    "\n",
    "\n",
    "### En esta imagen se observa el string de configuración que contiene fecha y hora, además de los hiperparámetros\n",
    "\n",
    "![image-2.png](attachment:image-2.png)\n",
    "\n",
    "\n",
    "\n",
    "# HIPÓTESIS\n",
    "\n",
    "La hipótesis es que mediante una regresión lineal y utilizando la variable de mayor correlación, encontraremos los parámetros que hacen que el error tienda a cero y entonces podamos predecir los precios de casas si nos dan la variable OverallQual\n",
    "\n",
    "\n",
    "# CONCLUSIÓN\n",
    "\n",
    "Después de correr varios modelos con diferentes parámetros y sin utilizar ningún optimizador, se llega a la conclusión que el error es grande pero efectivamente puede predecir [con error] los precios de las casas dados los valores de OverallQual\n",
    "\n",
    "\n",
    "\n"
   ]
  },
  {
   "cell_type": "code",
   "execution_count": null,
   "metadata": {},
   "outputs": [],
   "source": []
  }
 ],
 "metadata": {
  "kernelspec": {
   "display_name": "Python 3",
   "language": "python",
   "name": "python3"
  },
  "language_info": {
   "codemirror_mode": {
    "name": "ipython",
    "version": 3
   },
   "file_extension": ".py",
   "mimetype": "text/x-python",
   "name": "python",
   "nbconvert_exporter": "python",
   "pygments_lexer": "ipython3",
   "version": "3.8.5"
  }
 },
 "nbformat": 4,
 "nbformat_minor": 4
}
